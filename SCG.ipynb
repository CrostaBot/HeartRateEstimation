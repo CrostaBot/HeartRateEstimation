{
 "cells": [
  {
   "cell_type": "markdown",
   "metadata": {},
   "source": [
    "# HEART RATE ESTIMATION"
   ]
  },
  {
   "cell_type": "code",
   "execution_count": null,
   "metadata": {},
   "outputs": [],
   "source": [
    "######  LIBRARIES  #######\n",
    "import pandas as pd\n",
    "import numpy as np\n",
    "import math \n",
    "import matplotlib.pyplot as plt\n",
    "from scipy import linalg as la\n",
    "from scipy.fft import fft, ifft\n",
    "from scipy.signal import welch, butter, filtfilt, find_peaks\n",
    "import pywt"
   ]
  },
  {
   "cell_type": "markdown",
   "metadata": {},
   "source": [
    "**Data preparation:**\n",
    "\n",
    "1. Load the txt file and select only the columns you are interesting in, in order to do a complete data analysis (e.g. Log Freq, AccX, ... )"
   ]
  },
  {
   "cell_type": "code",
   "execution_count": null,
   "metadata": {},
   "outputs": [],
   "source": [
    "###### IMPORT DATA #######\n",
    "file_name = \"center_sternum.txt\"\n",
    "\n",
    "# creation of a DataFrame containing the whole dataset\n",
    "df_sternum = pd.DataFrame(pd.read_csv(file_name, sep = \"\\t\", header = 0))\n",
    "\n",
    "# select just the column of interest\n",
    "df_sternum = df_sternum.iloc[:,[1,3,4,5,6,7,8]]\n",
    "\n",
    "# recover the samples frequency\n",
    "freq = df_sternum['Log Freq'][0]\n",
    "\n",
    "# create the time vector\n",
    "time = np.arange(0, len(df_sternum)* 1/freq, 1/freq)\n",
    "\n",
    "# create the AccX, AccY, AccZ ,GyroX, GyroY, GyroZ vectors\n",
    "accX, accY, accZ = df_sternum['AccX'][:], df_sternum['AccY'][:], df_sternum['AccZ'][:]\n",
    "gyroX,gyroY,gyroZ = df_sternum['GyroX'][:], df_sternum['GyroY'][:], df_sternum['GyroZ'][:]\n",
    "\n",
    "# insert time column\n",
    "df_sternum.insert(1, \"Time\", time)\n",
    "\n",
    "# print data\n",
    "df_sternum.head()\n"
   ]
  },
  {
   "cell_type": "markdown",
   "metadata": {},
   "source": [
    "2. Plot selected data in function of time and choose a properly time window over which to perform the analysis. Pay attention on time rappresentation and the measurament unit."
   ]
  },
  {
   "cell_type": "code",
   "execution_count": null,
   "metadata": {},
   "outputs": [],
   "source": [
    "##### PLOT OF THE DATA #####\n",
    "\n",
    "# create the subplots \n",
    "figure, axis = plt.subplots(1,2, figsize = (15,5))\n",
    "\n",
    "# plot the accelerometer's data\n",
    "axis[0].plot(time,accX,'r',label = 'AccX')\n",
    "axis[0].plot(time,accY,'b',label = 'AccY')\n",
    "axis[0].plot(time,accZ,'g',label = 'AccZ')\n",
    "axis[0].set_xlabel('Time [s]')\n",
    "axis[0].set_ylabel('Acceleration [mg]')\n",
    "axis[0].set_title('ACCELEROMETER')\n",
    "axis[0].legend(loc = 1)\n",
    "\n",
    "#plot the gyroscope's data\n",
    "axis[1].plot(time,gyroX,'r',label = 'gyroX')\n",
    "axis[1].plot(time,gyroY,'b',label = 'gyroY')\n",
    "axis[1].plot(time,gyroZ,'g',label = 'gyroZ')\n",
    "axis[1].set_xlabel('Time [s]')\n",
    "axis[1].set_ylabel('Angular velocity [dps]')\n",
    "axis[1].set_title('GYROSCOPE')\n",
    "axis[1].legend(loc = 1)\n",
    "\n",
    "# create the subplots for a detail of the previous ones\n",
    "figure, axis = plt.subplots(1,2, figsize = (15,5))\n",
    "\n",
    "# plot a detail of the accelerometer plot\n",
    "axis[0].plot(time,accX,'r',label = 'AccX')\n",
    "axis[0].plot(time,accY,'b',label = 'AccY')\n",
    "axis[0].set_xlabel('Time [s]')\n",
    "axis[0].set_ylabel('Acceleration [mg]')\n",
    "axis[0].set_title('Detail of AccX and AccY')\n",
    "axis[0].set_ylim([-80,150])\n",
    "axis[0].set_xlim([10,25])\n",
    "axis[0].legend(loc = 1)\n",
    "\n",
    "# plot a detail of the gyroscope plot\n",
    "axis[1].plot(time,gyroX,'r',label = 'gyroX')\n",
    "axis[1].plot(time,gyroY,'b',label = 'gyroY')\n",
    "axis[1].plot(time,gyroZ,'g',label = 'gyroZ')\n",
    "axis[1].set_xlabel('Time [s]')\n",
    "axis[1].set_ylabel('Angular velocity [dps]')\n",
    "axis[1].set_title('GYROSCOPE')\n",
    "axis[1].set_ylim([-10,10])\n",
    "axis[1].set_xlim([10,25])\n",
    "axis[1].legend(loc = 1)\n"
   ]
  },
  {
   "cell_type": "markdown",
   "metadata": {},
   "source": [
    "3. In order to make an appropiate work, decide if take care about some particular axis or some combination of them as well as derived features for the next step of the task. Motivate your choice.  \n"
   ]
  },
  {
   "cell_type": "code",
   "execution_count": null,
   "metadata": {},
   "outputs": [],
   "source": [
    "# select interval of interest\n",
    "df_sternum = df_sternum[(df_sternum['Time'] >= 10) & (df_sternum['Time'] < 70)]\n",
    "\n",
    "# update accX, accY, accZ, gyroX, gyroY, gyroZ\n",
    "time = np.arange(0, len(df_sternum)* 1/freq, 1/freq)\n",
    "accX, accY, accZ = df_sternum['AccX'][:], df_sternum['AccY'][:], df_sternum['AccZ'][:]\n",
    "gyroX, gyroY, gyroZ = df_sternum['GyroX'][:], df_sternum['GyroY'][:], df_sternum['GyroZ'][:]\n"
   ]
  },
  {
   "cell_type": "markdown",
   "metadata": {},
   "source": [
    "**PCA for Accelerometer**"
   ]
  },
  {
   "cell_type": "code",
   "execution_count": null,
   "metadata": {},
   "outputs": [],
   "source": [
    "# create the matrix for the PCA technique, in the rows there are the AccX, AccY, AccZ measurments, and each \n",
    "# column represents a data sample\n",
    "X_acc = np.array([accX, accY, accZ])\n",
    "\n",
    "figure, axis = plt.subplots(1,3, figsize = (15,3))\n",
    "axis[0].scatter(X_acc[0,:], X_acc[1,:], alpha=0.5)\n",
    "axis[0].set_xlabel('AccX')\n",
    "axis[0].set_ylabel('AccY')\n",
    "axis[1].scatter(X_acc[0,:], X_acc[2,:], alpha=0.5)\n",
    "axis[1].set_xlabel('AccX')\n",
    "axis[1].set_ylabel('AccZ')\n",
    "axis[2].scatter(X_acc[1,:], X_acc[2,:], alpha=0.5)\n",
    "axis[2].set_xlabel('AccY')\n",
    "axis[2].set_ylabel('AccZ')\n",
    "\n",
    "\n",
    "# da sistemareeee\n",
    "#scale_factor = 0.01\n",
    "#axis[0].plot([0,0.1*l[0]*V.T[0,0]],[0,0.1*l[0]*V.T[0,1]],'r-', lw=2)\n",
    "#axis[0].plot([0,l[1]*V.T[1,0]],[0,l[1]*V.T[1,1]],'r-')\n",
    "\n",
    "#axis[1].plot([0,0.1*scale_factor*l[0]*V.T[0,0]],[0,0.1*scale_factor*l[0]*V.T[0,2]],'r-', lw=2)\n",
    "#axis[1].plot([0,l[2]*V.T[2,0]],[0,l[2]*V.T[2,2]],'r-')\n",
    "\n",
    "#axis[2].plot([0,0.5*l[1]*V.T[1,1]],[0,0.5*l[1]*V.T[1,2]],'r-', lw=2)\n",
    "#axis[2].plot([0,0.5*l[2]*V.T[2,1]],[0,0.5*l[2]*V.T[2,2]],'r-')"
   ]
  },
  {
   "cell_type": "code",
   "execution_count": null,
   "metadata": {},
   "outputs": [],
   "source": [
    "# compute the mean of X and subtract it to obtain a zero main matrix X\n",
    "X_acc = X_acc - X_acc.mean()\n",
    "\n",
    "# calculate the eigenvalues and eigenvectors of the covariance matrix and compute the covarinace matrix of the new \n",
    "# matrix \n",
    "l, V = la.eig(np.cov(X_acc))\n",
    "#P = V.T\n",
    "#Cy = P.dot(np.cov(X)).dot(P.T)\n",
    "Cy = np.diag(np.round(np.real(l),2))\n",
    "print(Cy, \"\\n\")\n",
    "\n",
    "\n",
    "# estimate if reduce dimensionality is convenient \n",
    "print(\"Trace of the original data matrix: \" , np.round(np.cov(X_acc).trace(),2))\n",
    "print(\"Trace of the data matrix after the changes of base: \", np.round(Cy.trace(),2), \"\\n\")\n",
    "\n",
    "print(\"Fraction of the total variability keeping only the first principal component: \", np.round(100*(Cy[0,0])/Cy.trace()),\"%\")\n",
    "print(\"Fraction of the total variability keeping only the first principal component: \", np.round(100*(Cy[0,0]+Cy[1,1])/Cy.trace()),\"%\")\n",
    "print(\"Fraction of the total variability keeping only the first principal component: \", np.round(100*(Cy[1,1]+Cy[2,2])/Cy.trace()),\"%\")\n",
    "\n",
    "# as consequence of the PCA technique keeping the two principal components for the Accelerometer is better\n",
    "\n",
    "P = V[:,0:2] #the eigenvectors are in the columns of V\n",
    "\n",
    "Y_acc = P.T.dot(X_acc) # new data according to PCA result"
   ]
  },
  {
   "cell_type": "markdown",
   "metadata": {},
   "source": [
    "**PCA for Gyroscope**"
   ]
  },
  {
   "cell_type": "code",
   "execution_count": null,
   "metadata": {},
   "outputs": [],
   "source": [
    "X_gyro = np.array([gyroX, gyroY, gyroZ]) \n",
    "\n",
    "figure, axis = plt.subplots(1,3, figsize = (15,3))\n",
    "axis[0].scatter(X_gyro[0,:], X_gyro[1,:], alpha=0.5)\n",
    "axis[0].set_xlabel('AccX')\n",
    "axis[0].set_ylabel('AccY')\n",
    "axis[1].scatter(X_gyro[0,:], X_gyro[2,:], alpha=0.5)\n",
    "axis[1].set_xlabel('AccX')\n",
    "axis[1].set_ylabel('AccZ')\n",
    "axis[2].scatter(X_gyro[1,:], X_gyro[2,:], alpha=0.5)\n",
    "axis[2].set_xlabel('AccY')\n",
    "axis[2].set_ylabel('AccZ')\n"
   ]
  },
  {
   "cell_type": "code",
   "execution_count": null,
   "metadata": {},
   "outputs": [],
   "source": [
    "#compute the mean of X and subtract it to obtain a zero main matrix X\n",
    "X_gyro = X_gyro - X_gyro.mean()\n",
    "\n",
    "# calculate the eigenvalues and eigenvectors of the covariance matrix and compute the covarinace matrix of the new \n",
    "# matrix \n",
    "l, V = la.eig(np.cov(X_gyro))\n",
    "#P = V.T\n",
    "#Cy = P.dot(np.cov(X)).dot(P.T)\n",
    "Cy = np.diag(np.round(np.real(l),2))\n",
    "print(Cy, \"\\n\")\n",
    "\n",
    "\n",
    "# estimate if reduce dimensionality is convenient \n",
    "print(\"Trace of the original data matrix: \" , np.round(np.cov(X_gyro).trace(),2))\n",
    "print(\"Trace of the data matrix after the changes of base: \", np.round(Cy.trace(),2), \"\\n\")\n",
    "\n",
    "print(\"Fraction of the total variability keeping only the first principal component: \", np.round(100*(Cy[0,0])/Cy.trace()),\"%\")\n",
    "print(\"Fraction of the total variability keeping only the first principal component: \", np.round(100*(Cy[0,0]+Cy[1,1])/Cy.trace()),\"%\")\n",
    "print(\"Fraction of the total variability keeping only the first principal component: \", np.round(100*(Cy[1,1]+Cy[2,2])/Cy.trace()),\"%\")\n",
    "\n",
    "# as consequence of the PCA technique keeping the two principal components for the Gyroscope is better\n",
    "P = V[:,0:2] #the eigenvectors are in the columns of V\n",
    "\n",
    "Y_gyro = P.T.dot(X_gyro) # new data according to PCA result"
   ]
  },
  {
   "cell_type": "markdown",
   "metadata": {},
   "source": [
    "**Time and frequency analysis:**\n",
    "\n",
    "1. Statistical analysis: provide a statistical description of the chosen dataset. Statistical descriptors includes for example mean, median, variance, standard deviation, 25th and 75th percentiles, and correlation coefficients. Investigate what could be the most interesting descriptors for this type of data, motivating the choices.\n"
   ]
  },
  {
   "cell_type": "code",
   "execution_count": null,
   "metadata": {},
   "outputs": [],
   "source": [
    "# compute statistics\n",
    "df_stat = df_sternum.describe()\n",
    "df_stat = df_stat.rename(columns={\"Time\": \"Time [s]\", \"AccX\": \"AccX [mg]\", \"AccY\": \"AccY [mg]\", \"AccZ\": \"AccZ [mg]\", \"GyroX\": \"GyroX [rad/s]\", \"GyroY\": \"GyroY [rad/s]\", \"GyroZ\": \"GyroZ [rad/s]\"})\n",
    "df_stat.round(1)\n",
    "stat = df_stat.iloc[:,1:].round(1) \n",
    "\n",
    "# TODO: add correlation coeffs grassie\n",
    "\n",
    "stat\n",
    "\n"
   ]
  },
  {
   "cell_type": "markdown",
   "metadata": {},
   "source": [
    "2. Fourier Analysis: Perform a frequency analysis of the data. Look at the spectrum and explain what you see. Use this step in order to properly design the filters in the following step. \n"
   ]
  },
  {
   "cell_type": "code",
   "execution_count": null,
   "metadata": {},
   "outputs": [],
   "source": [
    "def get_fft_values(y_values, T, N, f_s):\n",
    "    f_values = np.linspace(0.0, 1.0/(2.0*T), N//2)      \n",
    "    fft_values_ = fft(y_values)\n",
    "    fft_values = 2.0/N * np.abs(fft_values_[0:N//2])     \n",
    "    return f_values, fft_values\n",
    "\n",
    "def get_psd_values(y_values, T, N, f_s):\n",
    "    f_values, psd_values = welch(y_values, fs=f_s)\n",
    "    return f_values, psd_values\n",
    "\n",
    "N = df_sternum.shape[0]\n",
    "print(N)\n",
    "T = 1/freq   \n",
    "f_s = freq   \n",
    "\n",
    "f_values, fft_values = get_fft_values(np.array(accZ), T, N, f_s)\n",
    "plt.plot(f_values, fft_values)\n",
    "plt.ylim(0, 2)\n",
    "\n"
   ]
  },
  {
   "cell_type": "code",
   "execution_count": null,
   "metadata": {},
   "outputs": [],
   "source": [
    "f_values_psd, psd_values = get_psd_values(np.array(accZ), T, N, f_s)\n",
    "plt.plot(f_values_psd, psd_values)\n",
    "plt.ylim(0, 11)\n"
   ]
  },
  {
   "cell_type": "markdown",
   "metadata": {},
   "source": [
    "**Filter:**\n",
    "    \n",
    "Implement your own filter, trying to extrapolate heart rate signal. Hint:\n",
    "    \n",
    "    (a) Directly from Fourier Analysis, antitrasform data looking for the most interesting frequency band.\n",
    "    \n",
    "    (b) Choose the appropriate Lowpass/Bandpass/Highpass filter.\n",
    "    \n",
    "    (c) Wavelet trasform (a powerfull instrument that make a time and frequency analysis of signal).\n",
    "    \n",
    "    (d) Find another method by yourselves.\n",
    "    \n",
    "Motivate your choice.\n",
    "    "
   ]
  },
  {
   "cell_type": "code",
   "execution_count": null,
   "metadata": {},
   "outputs": [],
   "source": [
    "# 1. Decompose the signal using the DWT.\n",
    "# 2. Filter the signal in the wavelet space using thresholding.\n",
    "# 3. Invert the filtered signal to reconstruct the original, now filtered signal, using the inverse DWT.\n",
    "\n",
    "#TODO: understand coeffs, substitute 1 with noiseSigma, understnd if cambiare oparam\n",
    "print(pywt.wavelist(kind='discrete'))\n",
    "\n",
    "# Normalize\n",
    "accZ = (accZ-np.mean(accZ))\n",
    "\n",
    "#DWT\n",
    "cA, cD = pywt.dwt(accZ,'sym4') \n",
    "\n",
    "#Compute threshold something like this.  You need an estimate\n",
    "# of the noise sigma.\n",
    "threshold=8*math.sqrt(2*math.log2(accZ.size))\n",
    "\n",
    "# Apply the threshold.  Pseudocode here.\n",
    "cA_threshold = pywt.threshold(cA, threshold, 'soft')\n",
    "cD_threshold = pywt.threshold(cD, threshold, 'soft')\n",
    "# IDWT\n",
    "renc = pywt.idwt(cA_threshold, cD_threshold, 'sym4'); \n",
    "\n"
   ]
  },
  {
   "cell_type": "code",
   "execution_count": null,
   "metadata": {},
   "outputs": [],
   "source": [
    "# Plot\n",
    "plt.figure(figsize=(20,10))\n",
    "plt.plot(time, renc, 'red')\n",
    "plt.plot(time, accZ, 'green')\n",
    "plt.xlim([32.5,33.5])\n"
   ]
  },
  {
   "cell_type": "code",
   "execution_count": null,
   "metadata": {},
   "outputs": [],
   "source": [
    "# Plot\n",
    "plt.figure(figsize=(20,10))\n",
    "plt.plot(time, renc, 'red')\n",
    "plt.xlim([30,40])"
   ]
  },
  {
   "cell_type": "code",
   "execution_count": null,
   "metadata": {},
   "outputs": [],
   "source": [
    "rawsig = (accZ-np.mean(accZ))[2000:14000]\n",
    "fs = 200\n",
    "lf = 40/60 #bmp to Hz\n",
    "hf = 140/60 "
   ]
  },
  {
   "cell_type": "code",
   "execution_count": null,
   "metadata": {},
   "outputs": [],
   "source": [
    "def fftfilt(x,lf,hf,fs):\n",
    "    X = np.fft.rfft(x)\n",
    "    f = np.fft.rfftfreq(len(x),1/fs)\n",
    "    X_filt = np.array([X[i] if (f[i] >= lf and f[i] <= hf) else 0 for i in range(0,len(X))])\n",
    "    x_filt = np.fft.irfft(X_filt)\n",
    "    return x_filt\n",
    "\n",
    "def butterfilt(x, lf, hf, fs):\n",
    "    b,a = butter(3,[lf,hf], btype='bandpass', fs=fs)\n",
    "    x_filt = filtfilt(b,a, x)  \n",
    "    return x_filt \n"
   ]
  },
  {
   "cell_type": "code",
   "execution_count": null,
   "metadata": {},
   "outputs": [],
   "source": [
    "# prove\n",
    "sig_filt_fft = fftfilt(rawsig,lf,hf,fs)\n",
    "sig_filt_butter = butterfilt(rawsig,lf,hf,fs)\n",
    "\n",
    "#cerco i picchi (battiti) \n",
    "peaks_fft,_ = find_peaks(sig_filt_fft, height=0.2, threshold=None, distance=fs/hf, prominence=0.4, width=None, wlen=None, rel_height=0.5, plateau_size=None)\n",
    "peaks_butt,_ = find_peaks(sig_filt_butter, height=0.2, threshold=None, distance=fs/hf, prominence=0.4, width=None, wlen=None, rel_height=0.5, plateau_size=None)\n",
    "print(\"mean BPM with FFT filt= \",len(peaks_fft)*60/(len(sig_filt_fft)/fs))\n",
    "print(\"mean BPM with butterworth filt= \",len(peaks_butt)*60/(len(sig_filt_butter)/fs))"
   ]
  },
  {
   "cell_type": "markdown",
   "metadata": {},
   "source": [
    "**Metrics:**\n",
    "\n",
    "1. Heart Beat Per Minute(BPM): extrapolate BPM, make an histogram of the result. Does it follow a partiular distribution? \n",
    "    "
   ]
  },
  {
   "cell_type": "code",
   "execution_count": null,
   "metadata": {},
   "outputs": [],
   "source": []
  },
  {
   "cell_type": "markdown",
   "metadata": {},
   "source": [
    "2. Heart Rate Variability(HRV): extrapolate HRV, explain why this parameter is important, and plot the results."
   ]
  },
  {
   "cell_type": "code",
   "execution_count": null,
   "metadata": {},
   "outputs": [],
   "source": []
  },
  {
   "cell_type": "markdown",
   "metadata": {},
   "source": [
    "**Optional Algorithm:** \n",
    "\n",
    "Elaborate a simple algorithm to extrapolate heart beat even when filter failed (e.g. look at particular threshold...).  "
   ]
  },
  {
   "cell_type": "code",
   "execution_count": null,
   "metadata": {},
   "outputs": [],
   "source": []
  },
  {
   "cell_type": "markdown",
   "metadata": {},
   "source": [
    "**Conclusion:**\n",
    "\n",
    "Summarise the obtained results, in particular making a comparison between the two files analysed. Highlight limitation and critical issues encountered during the work, motivating the most relevant contribution given by your solution.\n",
    "\n"
   ]
  },
  {
   "cell_type": "code",
   "execution_count": null,
   "metadata": {},
   "outputs": [],
   "source": []
  }
 ],
 "metadata": {
  "kernelspec": {
   "display_name": "Python 3",
   "language": "python",
   "name": "python3"
  },
  "language_info": {
   "codemirror_mode": {
    "name": "ipython",
    "version": 3
   },
   "file_extension": ".py",
   "mimetype": "text/x-python",
   "name": "python",
   "nbconvert_exporter": "python",
   "pygments_lexer": "ipython3",
   "version": "3.7.6"
  }
 },
 "nbformat": 4,
 "nbformat_minor": 2
}
