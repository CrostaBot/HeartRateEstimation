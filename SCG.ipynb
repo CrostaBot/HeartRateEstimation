{
 "cells": [
  {
   "cell_type": "markdown",
   "metadata": {},
   "source": [
    "# HEART RATE ESTIMATION"
   ]
  },
  {
   "cell_type": "markdown",
   "metadata": {},
   "source": [
    "## Introduction:\n",
    "\n",
    "Seismocardiography(SCG) is a very promising technique to measure Heart Rate (HR) and Respiratory Rate (RR) with the detector positioned above sternum. It is generally based on accelerometer and gyroscope readings or a combination of them.\n",
    "\n",
    "MuSe(Multi-Sensor miniaturized, low-power, wireless [IMU](https://en.wikipedia.org/wiki/Inertial_measurement_unit)) is an Inertial Measurement Unit (IMU) provide by [221e](https://www.221e.com). In the context of this project, It allows to record the inertial data necessary for the estimation of SCG.\n",
    "\n",
    "The dataset used (**center_sternum.txt**) provide measurments acquired on a subject who was lying supine on his left and right side, respectively. MuSe  is placed on the center of the sternum"
   ]
  },
  {
   "cell_type": "markdown",
   "metadata": {},
   "source": [
    "## Libraries:\n",
    "\n",
    "The main libraries used to perform SCG are the following:\n",
    "\n",
    "1. **Pandas**: to collect the dataset as DataFrame and select the columns of interest. \n",
    "* **Numpy**: to perform operations with arrays and use some usefull tools\n",
    "* **Matplotlib**: to plot the resuls \n",
    "* **Seaborn**: to have a nice design of the plotted results \n",
    "* **Scipy**: to perform some numerical routines, such as linear algebra and statistics."
   ]
  },
  {
   "cell_type": "code",
   "execution_count": 171,
   "metadata": {},
   "outputs": [],
   "source": [
    "######  LIBRARIES  #######\n",
    "import pandas as pd\n",
    "import numpy as np\n",
    "import math \n",
    "import matplotlib.pyplot as plt\n",
    "from scipy import linalg as la\n",
    "from scipy import fft, ifft, stats\n",
    "from scipy.signal import welch, butter, filtfilt, find_peaks\n",
    "import pywt\n",
    "import seaborn as sns\n",
    "import matplotlib\n"
   ]
  },
  {
   "cell_type": "markdown",
   "metadata": {},
   "source": [
    "## Data preparation:\n",
    "\n",
    "In this first part the dataset is loaded as DataFrame. The columns of interest are selected to do a complete data analysis. A \"Time\" column is added. This one will be usefull in the last part of the project to understand at which time a heart beat occurs. \n",
    "\n",
    "The selected data are then plotted. These are the three components of both the Accelerometer and Gyroscope. Thanks to these plots we are able to have an opening view of how these signals look like. Moreover a very noisily area at the begin and at the end of those signals can be detected. As consequence the signals are then cutted to select just the central part. These part correspond to exactly 60 seconds of data collections. \n",
    "\n",
    "1. Load the txt file and select only the columns you are interesting in, in order to do a complete data analysis (e.g. Log Freq, AccX, ... )"
   ]
  },
  {
   "cell_type": "code",
   "execution_count": 172,
   "metadata": {},
   "outputs": [
    {
     "data": {
      "text/html": [
       "<div>\n",
       "<style scoped>\n",
       "    .dataframe tbody tr th:only-of-type {\n",
       "        vertical-align: middle;\n",
       "    }\n",
       "\n",
       "    .dataframe tbody tr th {\n",
       "        vertical-align: top;\n",
       "    }\n",
       "\n",
       "    .dataframe thead th {\n",
       "        text-align: right;\n",
       "    }\n",
       "</style>\n",
       "<table border=\"1\" class=\"dataframe\">\n",
       "  <thead>\n",
       "    <tr style=\"text-align: right;\">\n",
       "      <th></th>\n",
       "      <th>Log Freq</th>\n",
       "      <th>Time</th>\n",
       "      <th>AccX</th>\n",
       "      <th>AccY</th>\n",
       "      <th>AccZ</th>\n",
       "      <th>GyroX</th>\n",
       "      <th>GyroY</th>\n",
       "      <th>GyroZ</th>\n",
       "    </tr>\n",
       "  </thead>\n",
       "  <tbody>\n",
       "    <tr>\n",
       "      <th>0</th>\n",
       "      <td>200</td>\n",
       "      <td>0.000</td>\n",
       "      <td>947.086</td>\n",
       "      <td>435.662</td>\n",
       "      <td>70.638</td>\n",
       "      <td>-6.824428</td>\n",
       "      <td>-14.244280</td>\n",
       "      <td>1.404580</td>\n",
       "    </tr>\n",
       "    <tr>\n",
       "      <th>1</th>\n",
       "      <td>200</td>\n",
       "      <td>0.005</td>\n",
       "      <td>969.168</td>\n",
       "      <td>387.777</td>\n",
       "      <td>88.877</td>\n",
       "      <td>6.183206</td>\n",
       "      <td>-12.290080</td>\n",
       "      <td>-7.969466</td>\n",
       "    </tr>\n",
       "    <tr>\n",
       "      <th>2</th>\n",
       "      <td>200</td>\n",
       "      <td>0.010</td>\n",
       "      <td>989.603</td>\n",
       "      <td>380.335</td>\n",
       "      <td>78.751</td>\n",
       "      <td>11.709920</td>\n",
       "      <td>-4.961832</td>\n",
       "      <td>-7.450382</td>\n",
       "    </tr>\n",
       "    <tr>\n",
       "      <th>3</th>\n",
       "      <td>200</td>\n",
       "      <td>0.015</td>\n",
       "      <td>954.894</td>\n",
       "      <td>418.033</td>\n",
       "      <td>88.328</td>\n",
       "      <td>17.877860</td>\n",
       "      <td>2.519084</td>\n",
       "      <td>-5.984733</td>\n",
       "    </tr>\n",
       "    <tr>\n",
       "      <th>4</th>\n",
       "      <td>200</td>\n",
       "      <td>0.020</td>\n",
       "      <td>972.096</td>\n",
       "      <td>427.732</td>\n",
       "      <td>99.857</td>\n",
       "      <td>25.221370</td>\n",
       "      <td>5.404580</td>\n",
       "      <td>4.015267</td>\n",
       "    </tr>\n",
       "  </tbody>\n",
       "</table>\n",
       "</div>"
      ],
      "text/plain": [
       "   Log Freq   Time     AccX     AccY    AccZ      GyroX      GyroY     GyroZ\n",
       "0       200  0.000  947.086  435.662  70.638  -6.824428 -14.244280  1.404580\n",
       "1       200  0.005  969.168  387.777  88.877   6.183206 -12.290080 -7.969466\n",
       "2       200  0.010  989.603  380.335  78.751  11.709920  -4.961832 -7.450382\n",
       "3       200  0.015  954.894  418.033  88.328  17.877860   2.519084 -5.984733\n",
       "4       200  0.020  972.096  427.732  99.857  25.221370   5.404580  4.015267"
      ]
     },
     "execution_count": 172,
     "metadata": {},
     "output_type": "execute_result"
    }
   ],
   "source": [
    "###### IMPORT DATA #######\n",
    "file_name = \"center_sternum.txt\"\n",
    "\n",
    "# creation of a DataFrame containing the whole dataset\n",
    "df_sternum = pd.DataFrame(pd.read_csv(file_name, sep = \"\\t\", header = 0))\n",
    "\n",
    "# select just the column of interest\n",
    "df_sternum = df_sternum.iloc[:,[1,3,4,5,6,7,8]]\n",
    "\n",
    "# recover the samples frequency\n",
    "freq = df_sternum['Log Freq'][0]\n",
    "\n",
    "# create the time vector\n",
    "time = np.arange(0, len(df_sternum)* 1/freq, 1/freq)\n",
    "\n",
    "# create the AccX, AccY, AccZ ,GyroX, GyroY, GyroZ vectors\n",
    "accX, accY, accZ = df_sternum['AccX'][:], df_sternum['AccY'][:], df_sternum['AccZ'][:]\n",
    "gyroX,gyroY,gyroZ = df_sternum['GyroX'][:], df_sternum['GyroY'][:], df_sternum['GyroZ'][:]\n",
    "\n",
    "# insert time column\n",
    "df_sternum.insert(1, \"Time\", time)\n",
    "\n",
    "# print data\n",
    "df_sternum.head()\n"
   ]
  },
  {
   "cell_type": "markdown",
   "metadata": {},
   "source": [
    "2. Plot selected data in function of time and choose a properly time window over which to perform the analysis. Pay attention on time rappresentation and the measurament unit."
   ]
  },
  {
   "cell_type": "code",
   "execution_count": 173,
   "metadata": {
    "scrolled": false
   },
   "outputs": [
    {
     "ename": "FileNotFoundError",
     "evalue": "[Errno 2] No such file or directory: 'Images/SCG/data.png'",
     "output_type": "error",
     "traceback": [
      "\u001b[0;31m---------------------------------------------------------------------------\u001b[0m",
      "\u001b[0;31mFileNotFoundError\u001b[0m                         Traceback (most recent call last)",
      "\u001b[0;32m<ipython-input-173-415897ded398>\u001b[0m in \u001b[0;36m<module>\u001b[0;34m\u001b[0m\n\u001b[1;32m     23\u001b[0m \u001b[0maxis\u001b[0m\u001b[0;34m[\u001b[0m\u001b[0;36m1\u001b[0m\u001b[0;34m]\u001b[0m\u001b[0;34m.\u001b[0m\u001b[0mset_title\u001b[0m\u001b[0;34m(\u001b[0m\u001b[0;34m'GYROSCOPE'\u001b[0m\u001b[0;34m)\u001b[0m\u001b[0;34m\u001b[0m\u001b[0;34m\u001b[0m\u001b[0m\n\u001b[1;32m     24\u001b[0m \u001b[0maxis\u001b[0m\u001b[0;34m[\u001b[0m\u001b[0;36m1\u001b[0m\u001b[0;34m]\u001b[0m\u001b[0;34m.\u001b[0m\u001b[0mlegend\u001b[0m\u001b[0;34m(\u001b[0m\u001b[0mloc\u001b[0m \u001b[0;34m=\u001b[0m \u001b[0;36m1\u001b[0m\u001b[0;34m)\u001b[0m\u001b[0;34m\u001b[0m\u001b[0;34m\u001b[0m\u001b[0m\n\u001b[0;32m---> 25\u001b[0;31m \u001b[0mplt\u001b[0m\u001b[0;34m.\u001b[0m\u001b[0msavefig\u001b[0m\u001b[0;34m(\u001b[0m\u001b[0;34m\"Images/SCG/data.png\"\u001b[0m\u001b[0;34m)\u001b[0m\u001b[0;34m\u001b[0m\u001b[0;34m\u001b[0m\u001b[0m\n\u001b[0m\u001b[1;32m     26\u001b[0m \u001b[0;34m\u001b[0m\u001b[0m\n\u001b[1;32m     27\u001b[0m \u001b[0;31m# create the subplots for a detail of the previous ones\u001b[0m\u001b[0;34m\u001b[0m\u001b[0;34m\u001b[0m\u001b[0;34m\u001b[0m\u001b[0m\n",
      "\u001b[0;32m~/.local/lib/python3.8/site-packages/matplotlib/pyplot.py\u001b[0m in \u001b[0;36msavefig\u001b[0;34m(*args, **kwargs)\u001b[0m\n\u001b[1;32m    721\u001b[0m \u001b[0;32mdef\u001b[0m \u001b[0msavefig\u001b[0m\u001b[0;34m(\u001b[0m\u001b[0;34m*\u001b[0m\u001b[0margs\u001b[0m\u001b[0;34m,\u001b[0m \u001b[0;34m**\u001b[0m\u001b[0mkwargs\u001b[0m\u001b[0;34m)\u001b[0m\u001b[0;34m:\u001b[0m\u001b[0;34m\u001b[0m\u001b[0;34m\u001b[0m\u001b[0m\n\u001b[1;32m    722\u001b[0m     \u001b[0mfig\u001b[0m \u001b[0;34m=\u001b[0m \u001b[0mgcf\u001b[0m\u001b[0;34m(\u001b[0m\u001b[0;34m)\u001b[0m\u001b[0;34m\u001b[0m\u001b[0;34m\u001b[0m\u001b[0m\n\u001b[0;32m--> 723\u001b[0;31m     \u001b[0mres\u001b[0m \u001b[0;34m=\u001b[0m \u001b[0mfig\u001b[0m\u001b[0;34m.\u001b[0m\u001b[0msavefig\u001b[0m\u001b[0;34m(\u001b[0m\u001b[0;34m*\u001b[0m\u001b[0margs\u001b[0m\u001b[0;34m,\u001b[0m \u001b[0;34m**\u001b[0m\u001b[0mkwargs\u001b[0m\u001b[0;34m)\u001b[0m\u001b[0;34m\u001b[0m\u001b[0;34m\u001b[0m\u001b[0m\n\u001b[0m\u001b[1;32m    724\u001b[0m     \u001b[0mfig\u001b[0m\u001b[0;34m.\u001b[0m\u001b[0mcanvas\u001b[0m\u001b[0;34m.\u001b[0m\u001b[0mdraw_idle\u001b[0m\u001b[0;34m(\u001b[0m\u001b[0;34m)\u001b[0m   \u001b[0;31m# need this if 'transparent=True' to reset colors\u001b[0m\u001b[0;34m\u001b[0m\u001b[0;34m\u001b[0m\u001b[0m\n\u001b[1;32m    725\u001b[0m     \u001b[0;32mreturn\u001b[0m \u001b[0mres\u001b[0m\u001b[0;34m\u001b[0m\u001b[0;34m\u001b[0m\u001b[0m\n",
      "\u001b[0;32m~/.local/lib/python3.8/site-packages/matplotlib/figure.py\u001b[0m in \u001b[0;36msavefig\u001b[0;34m(self, fname, transparent, **kwargs)\u001b[0m\n\u001b[1;32m   2201\u001b[0m             \u001b[0mself\u001b[0m\u001b[0;34m.\u001b[0m\u001b[0mpatch\u001b[0m\u001b[0;34m.\u001b[0m\u001b[0mset_visible\u001b[0m\u001b[0;34m(\u001b[0m\u001b[0mframeon\u001b[0m\u001b[0;34m)\u001b[0m\u001b[0;34m\u001b[0m\u001b[0;34m\u001b[0m\u001b[0m\n\u001b[1;32m   2202\u001b[0m \u001b[0;34m\u001b[0m\u001b[0m\n\u001b[0;32m-> 2203\u001b[0;31m         \u001b[0mself\u001b[0m\u001b[0;34m.\u001b[0m\u001b[0mcanvas\u001b[0m\u001b[0;34m.\u001b[0m\u001b[0mprint_figure\u001b[0m\u001b[0;34m(\u001b[0m\u001b[0mfname\u001b[0m\u001b[0;34m,\u001b[0m \u001b[0;34m**\u001b[0m\u001b[0mkwargs\u001b[0m\u001b[0;34m)\u001b[0m\u001b[0;34m\u001b[0m\u001b[0;34m\u001b[0m\u001b[0m\n\u001b[0m\u001b[1;32m   2204\u001b[0m \u001b[0;34m\u001b[0m\u001b[0m\n\u001b[1;32m   2205\u001b[0m         \u001b[0;32mif\u001b[0m \u001b[0mframeon\u001b[0m\u001b[0;34m:\u001b[0m\u001b[0;34m\u001b[0m\u001b[0;34m\u001b[0m\u001b[0m\n",
      "\u001b[0;32m~/.local/lib/python3.8/site-packages/matplotlib/backend_bases.py\u001b[0m in \u001b[0;36mprint_figure\u001b[0;34m(self, filename, dpi, facecolor, edgecolor, orientation, format, bbox_inches, **kwargs)\u001b[0m\n\u001b[1;32m   2096\u001b[0m \u001b[0;34m\u001b[0m\u001b[0m\n\u001b[1;32m   2097\u001b[0m             \u001b[0;32mtry\u001b[0m\u001b[0;34m:\u001b[0m\u001b[0;34m\u001b[0m\u001b[0;34m\u001b[0m\u001b[0m\n\u001b[0;32m-> 2098\u001b[0;31m                 result = print_method(\n\u001b[0m\u001b[1;32m   2099\u001b[0m                     \u001b[0mfilename\u001b[0m\u001b[0;34m,\u001b[0m\u001b[0;34m\u001b[0m\u001b[0;34m\u001b[0m\u001b[0m\n\u001b[1;32m   2100\u001b[0m                     \u001b[0mdpi\u001b[0m\u001b[0;34m=\u001b[0m\u001b[0mdpi\u001b[0m\u001b[0;34m,\u001b[0m\u001b[0;34m\u001b[0m\u001b[0;34m\u001b[0m\u001b[0m\n",
      "\u001b[0;32m~/.local/lib/python3.8/site-packages/matplotlib/backends/backend_agg.py\u001b[0m in \u001b[0;36mprint_png\u001b[0;34m(self, filename_or_obj, metadata, pil_kwargs, *args, **kwargs)\u001b[0m\n\u001b[1;32m    533\u001b[0m         \u001b[0;32melse\u001b[0m\u001b[0;34m:\u001b[0m\u001b[0;34m\u001b[0m\u001b[0;34m\u001b[0m\u001b[0m\n\u001b[1;32m    534\u001b[0m             \u001b[0mrenderer\u001b[0m \u001b[0;34m=\u001b[0m \u001b[0mself\u001b[0m\u001b[0;34m.\u001b[0m\u001b[0mget_renderer\u001b[0m\u001b[0;34m(\u001b[0m\u001b[0;34m)\u001b[0m\u001b[0;34m\u001b[0m\u001b[0;34m\u001b[0m\u001b[0m\n\u001b[0;32m--> 535\u001b[0;31m             \u001b[0;32mwith\u001b[0m \u001b[0mcbook\u001b[0m\u001b[0;34m.\u001b[0m\u001b[0mopen_file_cm\u001b[0m\u001b[0;34m(\u001b[0m\u001b[0mfilename_or_obj\u001b[0m\u001b[0;34m,\u001b[0m \u001b[0;34m\"wb\"\u001b[0m\u001b[0;34m)\u001b[0m \u001b[0;32mas\u001b[0m \u001b[0mfh\u001b[0m\u001b[0;34m:\u001b[0m\u001b[0;34m\u001b[0m\u001b[0;34m\u001b[0m\u001b[0m\n\u001b[0m\u001b[1;32m    536\u001b[0m                 _png.write_png(renderer._renderer, fh, self.figure.dpi,\n\u001b[1;32m    537\u001b[0m                                metadata={**default_metadata, **metadata})\n",
      "\u001b[0;32m/usr/lib/python3.8/contextlib.py\u001b[0m in \u001b[0;36m__enter__\u001b[0;34m(self)\u001b[0m\n\u001b[1;32m    111\u001b[0m         \u001b[0;32mdel\u001b[0m \u001b[0mself\u001b[0m\u001b[0;34m.\u001b[0m\u001b[0margs\u001b[0m\u001b[0;34m,\u001b[0m \u001b[0mself\u001b[0m\u001b[0;34m.\u001b[0m\u001b[0mkwds\u001b[0m\u001b[0;34m,\u001b[0m \u001b[0mself\u001b[0m\u001b[0;34m.\u001b[0m\u001b[0mfunc\u001b[0m\u001b[0;34m\u001b[0m\u001b[0;34m\u001b[0m\u001b[0m\n\u001b[1;32m    112\u001b[0m         \u001b[0;32mtry\u001b[0m\u001b[0;34m:\u001b[0m\u001b[0;34m\u001b[0m\u001b[0;34m\u001b[0m\u001b[0m\n\u001b[0;32m--> 113\u001b[0;31m             \u001b[0;32mreturn\u001b[0m \u001b[0mnext\u001b[0m\u001b[0;34m(\u001b[0m\u001b[0mself\u001b[0m\u001b[0;34m.\u001b[0m\u001b[0mgen\u001b[0m\u001b[0;34m)\u001b[0m\u001b[0;34m\u001b[0m\u001b[0;34m\u001b[0m\u001b[0m\n\u001b[0m\u001b[1;32m    114\u001b[0m         \u001b[0;32mexcept\u001b[0m \u001b[0mStopIteration\u001b[0m\u001b[0;34m:\u001b[0m\u001b[0;34m\u001b[0m\u001b[0;34m\u001b[0m\u001b[0m\n\u001b[1;32m    115\u001b[0m             \u001b[0;32mraise\u001b[0m \u001b[0mRuntimeError\u001b[0m\u001b[0;34m(\u001b[0m\u001b[0;34m\"generator didn't yield\"\u001b[0m\u001b[0;34m)\u001b[0m \u001b[0;32mfrom\u001b[0m \u001b[0;32mNone\u001b[0m\u001b[0;34m\u001b[0m\u001b[0;34m\u001b[0m\u001b[0m\n",
      "\u001b[0;32m~/.local/lib/python3.8/site-packages/matplotlib/cbook/__init__.py\u001b[0m in \u001b[0;36mopen_file_cm\u001b[0;34m(path_or_file, mode, encoding)\u001b[0m\n\u001b[1;32m    416\u001b[0m \u001b[0;32mdef\u001b[0m \u001b[0mopen_file_cm\u001b[0m\u001b[0;34m(\u001b[0m\u001b[0mpath_or_file\u001b[0m\u001b[0;34m,\u001b[0m \u001b[0mmode\u001b[0m\u001b[0;34m=\u001b[0m\u001b[0;34m\"r\"\u001b[0m\u001b[0;34m,\u001b[0m \u001b[0mencoding\u001b[0m\u001b[0;34m=\u001b[0m\u001b[0;32mNone\u001b[0m\u001b[0;34m)\u001b[0m\u001b[0;34m:\u001b[0m\u001b[0;34m\u001b[0m\u001b[0;34m\u001b[0m\u001b[0m\n\u001b[1;32m    417\u001b[0m     \u001b[0;34mr\"\"\"Pass through file objects and context-manage `.PathLike`\\s.\"\"\"\u001b[0m\u001b[0;34m\u001b[0m\u001b[0;34m\u001b[0m\u001b[0m\n\u001b[0;32m--> 418\u001b[0;31m     \u001b[0mfh\u001b[0m\u001b[0;34m,\u001b[0m \u001b[0mopened\u001b[0m \u001b[0;34m=\u001b[0m \u001b[0mto_filehandle\u001b[0m\u001b[0;34m(\u001b[0m\u001b[0mpath_or_file\u001b[0m\u001b[0;34m,\u001b[0m \u001b[0mmode\u001b[0m\u001b[0;34m,\u001b[0m \u001b[0;32mTrue\u001b[0m\u001b[0;34m,\u001b[0m \u001b[0mencoding\u001b[0m\u001b[0;34m)\u001b[0m\u001b[0;34m\u001b[0m\u001b[0;34m\u001b[0m\u001b[0m\n\u001b[0m\u001b[1;32m    419\u001b[0m     \u001b[0;32mif\u001b[0m \u001b[0mopened\u001b[0m\u001b[0;34m:\u001b[0m\u001b[0;34m\u001b[0m\u001b[0;34m\u001b[0m\u001b[0m\n\u001b[1;32m    420\u001b[0m         \u001b[0;32mwith\u001b[0m \u001b[0mfh\u001b[0m\u001b[0;34m:\u001b[0m\u001b[0;34m\u001b[0m\u001b[0;34m\u001b[0m\u001b[0m\n",
      "\u001b[0;32m~/.local/lib/python3.8/site-packages/matplotlib/cbook/__init__.py\u001b[0m in \u001b[0;36mto_filehandle\u001b[0;34m(fname, flag, return_opened, encoding)\u001b[0m\n\u001b[1;32m    401\u001b[0m             \u001b[0mfh\u001b[0m \u001b[0;34m=\u001b[0m \u001b[0mbz2\u001b[0m\u001b[0;34m.\u001b[0m\u001b[0mBZ2File\u001b[0m\u001b[0;34m(\u001b[0m\u001b[0mfname\u001b[0m\u001b[0;34m,\u001b[0m \u001b[0mflag\u001b[0m\u001b[0;34m)\u001b[0m\u001b[0;34m\u001b[0m\u001b[0;34m\u001b[0m\u001b[0m\n\u001b[1;32m    402\u001b[0m         \u001b[0;32melse\u001b[0m\u001b[0;34m:\u001b[0m\u001b[0;34m\u001b[0m\u001b[0;34m\u001b[0m\u001b[0m\n\u001b[0;32m--> 403\u001b[0;31m             \u001b[0mfh\u001b[0m \u001b[0;34m=\u001b[0m \u001b[0mopen\u001b[0m\u001b[0;34m(\u001b[0m\u001b[0mfname\u001b[0m\u001b[0;34m,\u001b[0m \u001b[0mflag\u001b[0m\u001b[0;34m,\u001b[0m \u001b[0mencoding\u001b[0m\u001b[0;34m=\u001b[0m\u001b[0mencoding\u001b[0m\u001b[0;34m)\u001b[0m\u001b[0;34m\u001b[0m\u001b[0;34m\u001b[0m\u001b[0m\n\u001b[0m\u001b[1;32m    404\u001b[0m         \u001b[0mopened\u001b[0m \u001b[0;34m=\u001b[0m \u001b[0;32mTrue\u001b[0m\u001b[0;34m\u001b[0m\u001b[0;34m\u001b[0m\u001b[0m\n\u001b[1;32m    405\u001b[0m     \u001b[0;32melif\u001b[0m \u001b[0mhasattr\u001b[0m\u001b[0;34m(\u001b[0m\u001b[0mfname\u001b[0m\u001b[0;34m,\u001b[0m \u001b[0;34m'seek'\u001b[0m\u001b[0;34m)\u001b[0m\u001b[0;34m:\u001b[0m\u001b[0;34m\u001b[0m\u001b[0;34m\u001b[0m\u001b[0m\n",
      "\u001b[0;31mFileNotFoundError\u001b[0m: [Errno 2] No such file or directory: 'Images/SCG/data.png'"
     ]
    },
    {
     "data": {
      "image/png": "[encoded data removed]",
      "text/plain": [
       "<Figure size 1080x360 with 2 Axes>"
      ]
     },
     "metadata": {},
     "output_type": "display_data"
    }
   ],
   "source": [
    "##### PLOT OF THE DATA #####\n",
    "matplotlib.rcParams['mathtext.fontset'] = 'cm'\n",
    "matplotlib.rcParams['font.family'] = 'STIXGeneral'\n",
    "sns.set()\n",
    "# create the subplots \n",
    "figure, axis = plt.subplots(1,2, figsize = (15,5))\n",
    "\n",
    "# plot the accelerometer's data\n",
    "axis[0].plot(time,accX,'r',label = 'AccX')\n",
    "axis[0].plot(time,accY,'b',label = 'AccY')\n",
    "axis[0].plot(time,accZ,'g',label = 'AccZ')\n",
    "axis[0].set_xlabel('Time [s]')\n",
    "axis[0].set_ylabel('Acceleration [mg]')\n",
    "axis[0].set_title('ACCELEROMETER')\n",
    "axis[0].legend(loc = 1)\n",
    "\n",
    "#plot the gyroscope's data\n",
    "axis[1].plot(time,gyroX,'r',label = 'gyroX')\n",
    "axis[1].plot(time,gyroY,'b',label = 'gyroY')\n",
    "axis[1].plot(time,gyroZ,'g',label = 'gyroZ')\n",
    "axis[1].set_xlabel('Time [s]')\n",
    "axis[1].set_ylabel('Angular velocity [dps]')\n",
    "axis[1].set_title('GYROSCOPE')\n",
    "axis[1].legend(loc = 1)\n",
    "plt.savefig(\"Images/SCG/data.png\")\n",
    "\n",
    "# create the subplots for a detail of the previous ones\n",
    "figure, axis = plt.subplots(1,2, figsize = (15,5))\n",
    "\n",
    "# plot a detail of the accelerometer plot\n",
    "axis[0].plot(time,accX,'r',label = 'AccX')\n",
    "axis[0].plot(time,accY,'b',label = 'AccY')\n",
    "axis[0].set_xlabel('Time [s]')\n",
    "axis[0].set_ylabel('Acceleration [mg]')\n",
    "axis[0].set_title('Detail of AccX and AccY')\n",
    "axis[0].set_ylim([-80,150])\n",
    "axis[0].set_xlim([10,25])\n",
    "axis[0].legend(loc = 1)\n",
    "\n",
    "# plot a detail of the gyroscope plot\n",
    "axis[1].plot(time,gyroX,'r',label = 'gyroX')\n",
    "axis[1].plot(time,gyroY,'b',label = 'gyroY')\n",
    "axis[1].plot(time,gyroZ,'g',label = 'gyroZ')\n",
    "axis[1].set_xlabel('Time [s]')\n",
    "axis[1].set_ylabel('Angular velocity [dps]')\n",
    "axis[1].set_title('Detail of Gyroscope')\n",
    "axis[1].set_ylim([-10,10])\n",
    "axis[1].set_xlim([10,25])\n",
    "axis[1].legend(loc = 1)\n",
    "#plt.savefig(\"Images/SCG/data2.png\")\n",
    "\n",
    "plt.show()"
   ]
  },
  {
   "cell_type": "code",
   "execution_count": null,
   "metadata": {},
   "outputs": [],
   "source": [
    "# select interval of interest to avoid the large amount of noise at the beginning and at the end of the original\n",
    "# signal\n",
    "df_sternum = df_sternum[(df_sternum['Time'] >= 10) & (df_sternum['Time'] < 70)]\n",
    "\n",
    "# update accX, accY, accZ, gyroX, gyroY, gyroZ according to the new interval of interest\n",
    "time = np.arange(0, len(df_sternum)* 1/freq, 1/freq)\n",
    "accX, accY, accZ = df_sternum['AccX'][:], df_sternum['AccY'][:], df_sternum['AccZ'][:]\n",
    "gyroX, gyroY, gyroZ = df_sternum['GyroX'][:], df_sternum['GyroY'][:], df_sternum['GyroZ'][:]\n"
   ]
  },
  {
   "cell_type": "markdown",
   "metadata": {},
   "source": [
    "3. In order to make an appropiate work, decide if take care about some particular axis or some combination of them as well as derived features for the next step of the task. Motivate your choice."
   ]
  },
  {
   "cell_type": "markdown",
   "metadata": {},
   "source": [
    "**PCA** (Principal Component Analysis) is a dimensionality reduction technique. It's used to extract relevant information in a big confusing dataset. The goal of PCA is to find a new basis to re-express a dataset in order to reveal interesting stucture.\n",
    "\n",
    "The central idea of PCA is to find out redudancy between variables and remove it as much as possibile. The main steps of PCA are the following: \n",
    "1. Compute the data mean vector from the data matrix X. \n",
    "* Subtract off mean vector from the dataset.\n",
    "* Calculate the sample covariance matrix Cx.\n",
    "* Calculate eigenvectors of matrix Cx in order to obtain the matrix P (new base).\n",
    "* Apply the change of base PX = Y. Y will be the tranformed data matrix, if digonal, is uncurrelated and so we won't have any redundacy.\n"
   ]
  },
  {
   "cell_type": "markdown",
   "metadata": {},
   "source": [
    "**PCA for Accelerometer**\n",
    "\n",
    "In this section the PCA is used over the three components of the Accelerometer. \n",
    "\n",
    "As consequence of the results, a new base is apply to the data matrix and we reduce it from three to two dimensions. This operation allow us to keep and amount of 91% of information from the original matrix."
   ]
  },
  {
   "cell_type": "code",
   "execution_count": null,
   "metadata": {
    "scrolled": false
   },
   "outputs": [],
   "source": [
    "# create the matrix for the PCA technique, in the rows there are the AccX, AccY, AccZ measurments, and each \n",
    "# column represents a data sample\n",
    "\n",
    "matplotlib.rcParams['mathtext.fontset'] = 'cm'\n",
    "matplotlib.rcParams['font.family'] = 'STIXGeneral'\n",
    "sns.set()\n",
    "X_acc = np.array([accX, accY, accZ])\n",
    "\n",
    "figure, axis = plt.subplots(1,3, figsize = (18,5))\n",
    "axis[0].scatter(X_acc[0,:], X_acc[1,:], alpha=0.3, color = 'b')\n",
    "axis[0].set_xlabel('AccX')\n",
    "axis[0].set_ylabel('AccY')\n",
    "axis[0].set_title('PCA - Accelerometer')\n",
    "axis[1].scatter(X_acc[0,:], X_acc[2,:], alpha=0.3, color = 'b')\n",
    "axis[1].set_xlabel('AccX')\n",
    "axis[1].set_ylabel('AccZ')\n",
    "axis[1].set_title('PCA - Accelerometer')\n",
    "axis[2].scatter(X_acc[1,:], X_acc[2,:], alpha=0.3, color = 'b')\n",
    "axis[2].set_xlabel('AccY')\n",
    "axis[2].set_ylabel('AccZ')\n",
    "axis[2].set_title('PCA - Accelerometer')\n",
    "figure.tight_layout()\n",
    "#plt.savefig(\"Images/SCG/PCA_acc.png\")\n",
    "plt.show()"
   ]
  },
  {
   "cell_type": "code",
   "execution_count": null,
   "metadata": {},
   "outputs": [],
   "source": [
    "# compute the mean of X and subtract it to obtain a zero main matrix X\n",
    "X_acc = X_acc - X_acc.mean()\n",
    "\n",
    "# calculate the eigenvalues and eigenvectors of the covariance matrix and compute the covariance matrix of the new \n",
    "# matrix \n",
    "l, V = la.eig(np.cov(X_acc))\n",
    "#P = V.T\n",
    "#Cy = P.dot(np.cov(X_acc)).dot(P.T)\n",
    "Cy = np.diag(np.round(np.real(l),2))\n",
    "print(Cy, \"\\n\")\n",
    "\n",
    "\n",
    "# estimate if reduce dimensionality is convenient \n",
    "print(\"Trace of the original data matrix: \" , np.round(np.cov(X_acc).trace(),2))\n",
    "print(\"Trace of the data matrix after the changes of base: \", np.round(Cy.trace(),2), \"\\n\")\n",
    "\n",
    "print(\"Fraction of the total variability keeping only the first principal component: \", np.round(100*(Cy[0,0])/Cy.trace()),\"%\")\n",
    "print(\"Fraction of the total variability keeping only the first two principal components: \", np.round(100*(Cy[0,0]+Cy[1,1])/Cy.trace()),\"%\")\n",
    "print(\"Fraction of the total variability keeping only the last two principal components: \", np.round(100*(Cy[1,1]+Cy[2,2])/Cy.trace()),\"%\")\n",
    "\n",
    "# as consequence of the PCA technique keeping the two principal components for the Accelerometer is better\n",
    "\n",
    "P = V[:,0:2] #the eigenvectors are in the columns of V\n",
    "\n",
    "PCA_acc = P.T.dot(X_acc) # new data according to PCA result\n",
    "\n",
    "#Visualize the original data projected into the new space with the relative principal axis\n",
    "scale_factor = 0.001\n",
    "first_dim = PCA_acc[0] - PCA_acc[0].mean()\n",
    "second_dim = PCA_acc[1] - PCA_acc[1].mean()\n",
    "matplotlib.rcParams['mathtext.fontset'] = 'cm'\n",
    "matplotlib.rcParams['font.family'] = 'STIXGeneral'\n",
    "sns.set()\n",
    "plt.figure(figsize=(10,6))\n",
    "plt.scatter(first_dim, second_dim, alpha=0.3, c = 'b')\n",
    "plt.plot([0, scale_factor*l[0]*np.cov(PCA_acc)[0,0]], [0, scale_factor*l[0]*np.cov(PCA_acc)[1,0]], 'r', lw=3)\n",
    "plt.plot([0, scale_factor*l[1]*np.cov(PCA_acc)[0,1]], [0, scale_factor*l[1]*np.cov(PCA_acc)[1,1]], 'r', lw=3)\n",
    "plt.title('PCA: Accelerometer')\n",
    "plt.xlabel('First dimension')\n",
    "plt.ylabel('Second dimension')\n",
    "#plt.savefig(\"Images/SCG/PCA_acc2.png\")\n",
    "plt.show()"
   ]
  },
  {
   "cell_type": "markdown",
   "metadata": {},
   "source": [
    "**PCA for Gyroscope**\n",
    "\n",
    "In this section the PCA is used over the three components of the Gyroscope. \n",
    "\n",
    "As consequence of the results, a new base is apply to the data matrix and we reduce it from three to two dimensions. This operation allow us to keep and amount of 96% of information from the original matrix."
   ]
  },
  {
   "cell_type": "code",
   "execution_count": null,
   "metadata": {},
   "outputs": [],
   "source": [
    "X_gyro = np.array([gyroX, gyroY, gyroZ]) \n",
    "matplotlib.rcParams['mathtext.fontset'] = 'cm'\n",
    "matplotlib.rcParams['font.family'] = 'STIXGeneral'\n",
    "sns.set()\n",
    "figure, axis = plt.subplots(1,3, figsize = (18,5))\n",
    "axis[0].scatter(X_gyro[0,:], X_gyro[1,:], alpha=0.3, color = 'b')\n",
    "axis[0].set_xlabel('GyroX')\n",
    "axis[0].set_ylabel('GyroY')\n",
    "axis[0].set_title('PCA: Gyroscope')\n",
    "axis[1].scatter(X_gyro[0,:], X_gyro[2,:], alpha=0.3, color = 'b')\n",
    "axis[1].set_xlabel('GyroX')\n",
    "axis[1].set_ylabel('GyroZ')\n",
    "axis[1].set_title('PCA: Gyroscope')\n",
    "axis[2].scatter(X_gyro[1,:], X_gyro[2,:], alpha=0.3, color = 'b')\n",
    "axis[2].set_xlabel('GyroY')\n",
    "axis[2].set_ylabel('GyroZ')\n",
    "axis[2].set_title('PCA: Gyroscope')\n",
    "figure.tight_layout()\n",
    "#plt.savefig(\"Images/SCG/PCA-gyro.png\")\n",
    "\n",
    "plt.show()"
   ]
  },
  {
   "cell_type": "code",
   "execution_count": null,
   "metadata": {},
   "outputs": [],
   "source": [
    "#compute the mean of X and subtract it to obtain a zero main matrix X\n",
    "X_gyro = X_gyro - X_gyro.mean()\n",
    "\n",
    "# calculate the eigenvalues and eigenvectors of the covariance matrix and compute the covarinace matrix of the new \n",
    "# matrix \n",
    "l, V = la.eig(np.cov(X_gyro))\n",
    "#P = V.T\n",
    "#Cy = P.dot(np.cov(X)).dot(P.T)\n",
    "Cy = np.diag(np.round(np.real(l),2))\n",
    "print(Cy, \"\\n\")\n",
    "\n",
    "\n",
    "# estimate if reduce dimensionality is convenient \n",
    "print(\"Trace of the original data matrix: \" , np.round(np.cov(X_gyro).trace(),2))\n",
    "print(\"Trace of the data matrix after the changes of base: \", np.round(Cy.trace(),2), \"\\n\")\n",
    "\n",
    "print(\"Fraction of the total variability keeping only the first principal component: \", np.round(100*(Cy[0,0])/Cy.trace()),\"%\")\n",
    "print(\"Fraction of the total variability keeping only the first two principal components: \", np.round(100*(Cy[0,0]+Cy[1,1])/Cy.trace()),\"%\")\n",
    "print(\"Fraction of the total variability keeping only the last two principal components: \", np.round(100*(Cy[1,1]+Cy[2,2])/Cy.trace()),\"%\")\n",
    "\n",
    "# as consequence of the PCA technique keeping the two principal components for the Gyroscope is better\n",
    "P = V[:,0:2] #the eigenvectors are in the columns of V\n",
    "\n",
    "PCA_gyro = P.T.dot(X_gyro) # new data according to PCA result\n",
    "\n",
    "\n",
    "#Visualize the original data projected into the new space with the relative principal axis\n",
    "first_dim = PCA_gyro[0] - PCA_gyro[0].mean()\n",
    "second_dim = PCA_gyro[1] - PCA_gyro[1].mean()\n",
    "matplotlib.rcParams['mathtext.fontset'] = 'cm'\n",
    "matplotlib.rcParams['font.family'] = 'STIXGeneral'\n",
    "sns.set()\n",
    "plt.figure(figsize=(10,6))\n",
    "plt.scatter(first_dim, second_dim, alpha=0.3, c = 'b')\n",
    "plt.plot([0, l[0]*np.cov(PCA_gyro)[0,0]], [0, l[0]*np.cov(PCA_gyro)[1,0]], 'r', lw=2)\n",
    "plt.plot([0, l[1]*np.cov(PCA_gyro)[0,1]], [0, l[1]*np.cov(PCA_gyro)[1,1]], 'r', lw=2)\n",
    "plt.title('PCA: Gyroscope')\n",
    "plt.xlabel('First dimension')\n",
    "plt.ylabel('Second dimension')\n",
    "#plt.savefig(\"Images/SCG/PCA-gyro2.png\")\n",
    "plt.show()"
   ]
  },
  {
   "cell_type": "markdown",
   "metadata": {},
   "source": [
    "## Time and frequency analysis:\n",
    "\n",
    "1. Statistical analysis: provide a statistical description of the chosen dataset. Statistical descriptors includes for example mean, median, variance, standard deviation, 25th and 75th percentiles, and correlation coefficients. Investigate what could be the most interesting descriptors for this type of data, motivating the choices.\n"
   ]
  },
  {
   "cell_type": "code",
   "execution_count": null,
   "metadata": {},
   "outputs": [],
   "source": [
    "# Create dataframe with the component obtained from PCA\n",
    "\n",
    "A = [PCA_acc[0].reshape(len(PCA_acc[0]), 1), PCA_acc[1].reshape(len(PCA_acc[1]), 1), PCA_gyro[0].reshape(len(PCA_gyro[0]), 1), PCA_gyro[1].reshape(len(PCA_gyro[1]), 1)]\n",
    "A = np.array(A).reshape(len(PCA_acc[0]), 4)\n",
    "df_PCA = pd.DataFrame(data = A)\n",
    "df_PCA.insert(0, \"Time\", time)\n",
    "\n",
    "# compute statistics\n",
    "df_PCA = df_PCA.describe()\n",
    "df_PCA = df_PCA.rename(columns={\"Time\": \"Time [s]\", 0 : \"AccX [mg]\", 1: \"AccY [mg]\", 2: \"GyroX [rad/s]\", 3: \"GyroY [rad/s]\"})\n",
    "df_PCA.round(1)\n",
    "stat = df_PCA.iloc[:,1:].round(1) \n",
    "\n",
    "\n",
    "stat\n",
    "\n"
   ]
  },
  {
   "cell_type": "markdown",
   "metadata": {},
   "source": [
    "2. Fourier Analysis: Perform a frequency analysis of the data. Look at the spectrum and explain what you see. Use this step in order to properly design the filters in the following step. \n"
   ]
  },
  {
   "cell_type": "code",
   "execution_count": null,
   "metadata": {},
   "outputs": [],
   "source": [
    "def get_fft_values(y_values, T, N, f_s):\n",
    "    f_values = np.linspace(0.0, 1.0/(2.0*T), N//2)      \n",
    "    fft_values_ = fft(y_values)\n",
    "    fft_values = 2.0/N * np.abs(fft_values_[0:N//2])     \n",
    "    return f_values, fft_values\n",
    "\n",
    "def get_psd_values(y_values, T, N, f_s):\n",
    "    f_values, psd_values = welch(y_values, fs=f_s)\n",
    "    return f_values, psd_values\n",
    "\n",
    "N = df_sternum.shape[0]\n",
    "T = 1/freq   \n",
    "f_s = freq   \n",
    "\n",
    "f_accX, fft_accX = get_fft_values(np.array(PCA_acc[0]), T, N, f_s)\n",
    "f_accY, fft_accY  = get_fft_values(np.array(PCA_acc[1]), T, N, f_s)\n",
    "f_gyroX, fft_gyroX = get_fft_values(np.array(PCA_gyro[0]), T, N, f_s)\n",
    "f_gyroY, fft_gyroY = get_fft_values(np.array(PCA_gyro[1]), T, N, f_s)\n",
    "\n",
    "figure, axis = plt.subplots(2, 2, figsize = (15, 7))\n",
    "axis[0, 0].plot(f_accX, fft_accX)\n",
    "axis[0, 0].set_ylim([0, 2])\n",
    "axis[0, 0].set_xlabel('Frequency [Hz]')\n",
    "axis[0, 0].set_ylabel('FFT values')\n",
    "axis[0, 0].set_title('FFT: accX')\n",
    "axis[0, 1].plot(f_accY, fft_accY)\n",
    "axis[0, 1].set_ylim([0, 2])\n",
    "axis[0, 1].set_xlabel('Frequency [Hz]')\n",
    "axis[0, 1].set_ylabel('FFT values')\n",
    "axis[0, 1].set_title('FFT: accY')\n",
    "axis[1, 0].plot(f_gyroX, fft_gyroX)\n",
    "axis[1, 0].set_ylim([0, 2])\n",
    "axis[1, 0].set_xlabel('Frequency [Hz]')\n",
    "axis[1, 0].set_ylabel('FFT values')\n",
    "axis[1, 0].set_title('FFT: gyroX')\n",
    "axis[1, 1].plot(f_gyroY, fft_gyroY)\n",
    "axis[1, 1].set_ylim([0, 2])\n",
    "axis[1, 1].set_xlabel('Frequency [Hz]')\n",
    "axis[1, 1].set_ylabel('FFT values')\n",
    "axis[1, 1].set_title('FFT: gyroY')\n",
    "figure.tight_layout()\n",
    "#plt.savefig(\"Images/SCG/FFT.png\")\n",
    "plt.show()\n",
    "\n"
   ]
  },
  {
   "cell_type": "code",
   "execution_count": null,
   "metadata": {},
   "outputs": [],
   "source": [
    "f_accX_psd, fft_accX_psd = get_psd_values(np.array(PCA_acc[0]), T, N, f_s)\n",
    "f_accY_psd, fft_accY_psd  = get_psd_values(np.array(PCA_acc[1]), T, N, f_s)\n",
    "f_gyroX_psd, fft_gyroX_psd = get_psd_values(np.array(PCA_gyro[0]), T, N, f_s)\n",
    "f_gyroY_psd, fft_gyroY_psd = get_psd_values(np.array(PCA_gyro[1]), T, N, f_s)\n",
    "\n",
    "figure, axis = plt.subplots(2, 2, figsize = (15, 7))\n",
    "axis[0, 0].plot(f_accX_psd, fft_accX_psd)\n",
    "axis[0, 0].set_xlabel('Frequency [Hz]')\n",
    "axis[0, 0].set_ylabel('PSD values')\n",
    "axis[0, 0].set_title('PSD: accX')\n",
    "#axis[0, 0].set_ylim([0, 2])\n",
    "axis[0, 1].plot(f_accY_psd, fft_accY_psd)\n",
    "axis[0, 1].set_xlabel('Frequency [Hz]')\n",
    "axis[0, 1].set_ylabel('PSD values')\n",
    "axis[0, 1].set_title('PSD: accY')\n",
    "#axis[0, 1].set_ylim([0, 2])\n",
    "axis[1, 0].plot(f_gyroX_psd, fft_gyroX_psd)\n",
    "axis[1, 0].set_xlabel('Frequency [Hz]')\n",
    "axis[1, 0].set_ylabel('PSD values')\n",
    "axis[1, 0].set_title('PSD: gyroX')\n",
    "#axis[1, 0].set_ylim([0, 2])\n",
    "axis[1, 1].plot(f_gyroY_psd, fft_gyroY_psd)\n",
    "axis[1, 1].set_xlabel('Frequency [Hz]')\n",
    "axis[1, 1].set_ylabel('PSD values')\n",
    "axis[1, 1].set_title('PSD: gyroY')\n",
    "#axis[1, 1].set_ylim([0, 2])\n",
    "figure.tight_layout()\n",
    "#plt.savefig(\"Images/SCG/PSD.png\")\n",
    "plt.show()\n"
   ]
  },
  {
   "cell_type": "markdown",
   "metadata": {},
   "source": [
    "From the above PSD plots we can see the first two principal components of acceleration signals have high densities of power outside our band of interest, so we choose the first gyro component to be filtered, since it shows more power in the low frequency (heart beat) region."
   ]
  },
  {
   "cell_type": "markdown",
   "metadata": {},
   "source": [
    "**Filter:**\n",
    "    \n",
    "Now we try three different approaches for filtering the signal \n",
    "    \n",
    "   (1) Directly in the frequency domain by zeroing the FT coefficient related to frequencies outside the band of interest           of [40,100] BPM, then antitrasforming\n",
    "    \n",
    "   (2) Butterworth Bandpass filter with the same BPM range\n",
    "    \n",
    "   (3) Multilevel Wavelet trasform  "
   ]
  },
  {
   "cell_type": "markdown",
   "metadata": {},
   "source": [
    "Here we define the filtering functions"
   ]
  },
  {
   "cell_type": "code",
   "execution_count": null,
   "metadata": {},
   "outputs": [],
   "source": [
    "def fftfilt(x,lf,hf,fs):\n",
    "    X = np.fft.rfft(x)\n",
    "    f = np.fft.rfftfreq(len(x),1/fs)\n",
    "    X_filt = np.array([X[i] if (f[i] >= lf and f[i] <= hf) else 0 for i in range(0,len(X))]) # set to 0 the frequencies outside the BPM range\n",
    "    x_filt = np.fft.irfft(X_filt)\n",
    "    return x_filt\n",
    "\n",
    "def butterfilt(x, lf, hf, fs):\n",
    "    b,a = butter(4,[lf,hf], btype='bandpass', fs=fs)\n",
    "    x_filt = filtfilt(b,a, x)  \n",
    "    return x_filt \n",
    "\n",
    "def wave_dec(data, w,levels):\n",
    "\n",
    "    w = pywt.Wavelet(w)\n",
    "    a = data\n",
    "    ca = []\n",
    "    cd = []\n",
    "    for i in range(levels):\n",
    "        a, d = pywt.dwt(a, w)\n",
    "        ca.append(a)\n",
    "        cd.append(d)\n",
    "\n",
    "    rec_a = []\n",
    "    rec_d = []\n",
    "\n",
    "    for i, coeff in enumerate(ca):\n",
    "        coeff_list = [coeff, None] + [None] * i\n",
    "        rec_a.append(pywt.waverec(coeff_list, w))\n",
    "\n",
    "    for i, coeff in enumerate(cd):\n",
    "        coeff_list = [None, coeff] + [None] * i\n",
    "        rec_d.append(pywt.waverec(coeff_list, w))\n",
    "\n",
    "    fig1 = plt.figure(figsize=(20,10))\n",
    "    ax_main = fig1.add_subplot(len(rec_a) + 1, 1, 1)\n",
    "    ax_main.set_title(\"WAVELET DECOMPOSITION - Original signal\", fontsize = 16)\n",
    "    data = np.array(data) \n",
    "    ax_main.plot(time,data)\n",
    "    ax_main.set_xlim(35,40)\n",
    "    ax_main.set_xlabel(\"Time [s]\")\n",
    "    #plt.savefig(\"Images/SCG/dec1.png\")\n",
    "    fig = plt.figure(figsize=(20,10))\n",
    "    #ax_main.set_xlim(0, len(data) - 1)\n",
    "    for i, y in enumerate(rec_a):\n",
    "        ax = fig.add_subplot(len(rec_a) +1, 2, 3 + i * 2)\n",
    "        ax.plot(time,y[:len(time)], 'r')\n",
    "        #ax.set_xlim(0, len(y) - 1)\n",
    "        ax.set_xlim(30,40)\n",
    "        ax.set_title(\"Approx%d\" % (i + 1))\n",
    "        ax.set_xlabel(\"Time [s]\")\n",
    "\n",
    "    for i, y in enumerate(rec_d):\n",
    "        ax = fig.add_subplot(len(rec_d) +1, 2, 4 + i * 2)\n",
    "        ax.plot(time,y[:len(time)], 'g')\n",
    "        #ax.set_xlim(0, len(y) - 1)\n",
    "        ax.set_xlim(30,40)\n",
    "        ax.set_title(\"Detail%d\" % (i + 1))\n",
    "        ax.set_xlabel(\"Time [s]\")\n",
    "    figure.tight_layout()\n",
    "    #plt.savefig(\"Images/SCG/dec2.png\")\n",
    "    return rec_a,rec_d,ca,cd\n"
   ]
  },
  {
   "cell_type": "markdown",
   "metadata": {},
   "source": [
    "We set the low and high frequency cutoffs for passband filtering and the parameters for wavelet decomposition"
   ]
  },
  {
   "cell_type": "code",
   "execution_count": null,
   "metadata": {},
   "outputs": [],
   "source": [
    "# Normalize\n",
    "selected = (PCA_gyro[0]-np.mean(PCA_gyro[0]))\n",
    "fs = freq\n",
    "lf = 40/60 #low band limit 40 bmp to Hz\n",
    "hf = 100/60  #high band limit 100 bmp to Hz\n",
    "wavelet = \"sym4\"\n",
    "levels = 4\n",
    "\n",
    "sig_filt_fft = fftfilt(selected,lf,hf,fs)\n",
    "sig_filt_butter = butterfilt(selected,lf,hf,fs)\n",
    "rec_a,rec_d,ca,cd = wave_dec(selected, wavelet,levels)"
   ]
  },
  {
   "cell_type": "markdown",
   "metadata": {},
   "source": [
    "After applying a threshold to the DWT coefficient we reconstruct the original signal by inverse DWT"
   ]
  },
  {
   "cell_type": "code",
   "execution_count": null,
   "metadata": {},
   "outputs": [],
   "source": [
    "threshold = 2\n",
    "\n",
    "coeffs = []\n",
    "coeffs.append(pywt.threshold(ca[-1],np.sqrt(threshold*np.log2(ca[-1].size))))\n",
    "[coeffs.append(pywt.threshold(cdx,np.sqrt(threshold*np.log2(cdx.size)))) for cdx in reversed(cd)]\n",
    "wavelet_filt = pywt.waverec(coeffs, wavelet)"
   ]
  },
  {
   "cell_type": "markdown",
   "metadata": {},
   "source": [
    "**Filtered signals**"
   ]
  },
  {
   "cell_type": "code",
   "execution_count": null,
   "metadata": {},
   "outputs": [],
   "source": [
    "# Plot\n",
    "figure, axis = plt.subplots(3, 1, figsize = (20, 15))\n",
    "\n",
    "axis[0].plot(time, selected, 'b', alpha = 0.5, label = 'Original')\n",
    "axis[0].plot(time, sig_filt_fft, 'r', label = 'Filtered')\n",
    "axis[0].set_xlim([35,40])\n",
    "axis[0].set_title(\"Original vs Filtered signal - Fourier antitransform\", fontsize = 18)\n",
    "axis[0].set_xlabel('Time [s]', fontsize = 16)\n",
    "axis[0].set_ylabel('Amplitude', fontsize = 16)\n",
    "axis[0].legend()\n",
    "axis[1].plot(time, selected, 'b', alpha = 0.5, label = 'Original')\n",
    "axis[1].plot(time, sig_filt_butter, 'r', label = 'Filtered')\n",
    "axis[1].set_xlim([35,40])\n",
    "axis[1].set_title(\"Original vs Filtered signal - Butterworth filtering\", fontsize = 18)\n",
    "axis[1].set_xlabel('Time [s]', fontsize = 16)\n",
    "axis[1].set_ylabel('Amplitude', fontsize = 16)\n",
    "axis[1].legend()\n",
    "axis[2].plot(time, selected, 'b', alpha = 0.5, label = 'Original')\n",
    "axis[2].plot(time, wavelet_filt[len(wavelet_filt)-len(time):], 'r', label = 'Filtered')\n",
    "axis[2].set_xlim([35,40])\n",
    "axis[2].set_title(\"Original vs Filtered signal - Wavelet filtering\", fontsize = 18)\n",
    "axis[2].set_xlabel('Time [s]', fontsize = 16)\n",
    "axis[2].set_ylabel('Amplitude', fontsize = 16)\n",
    "axis[2].legend()\n",
    "figure.tight_layout()\n",
    "# plt.savefig(\"Images/SCG/Original_filt.png\")\n",
    "\n",
    "plt.show()"
   ]
  },
  {
   "cell_type": "markdown",
   "metadata": {},
   "source": [
    "From the results of FT analysis and by visual inspection of the signal in time we can note the beat signal has a wide spectrum, so we can expect that a simple passband filtering would distort and smoothen the beat shape, making it harder to  accurately detect the peaks. These intuitions are confirmed by the plots above, where we can see that the heartbeat signal with its high frequency spectrum removed becomes a sine wave."
   ]
  },
  {
   "cell_type": "markdown",
   "metadata": {},
   "source": [
    "We then try a multilevel wavelet transform filtering and plot the approximation and details signal for each of the 5 decomposition levels."
   ]
  },
  {
   "cell_type": "markdown",
   "metadata": {},
   "source": [
    "**Peaks detection**\n",
    "\n",
    "For detecting the peaks in the filtered signal we make use of the find_peaks from scipy.signal, which is instructed to consider only peaks spaced apart by an amount of samples given by $\\frac{f_{sampling}}{f_{HRmax}}$ where $f_{HRmax} = \\frac{100(BPM)}{60}$"
   ]
  },
  {
   "cell_type": "code",
   "execution_count": null,
   "metadata": {},
   "outputs": [],
   "source": [
    "peaks_fft,_ = find_peaks(sig_filt_fft, height=0.2, threshold=None, distance=fs/hf, prominence=0.4, width=None, wlen=None, rel_height=0.5, plateau_size=None)\n",
    "peaks_butt,_ = find_peaks(sig_filt_butter, height=0.2, threshold=None, distance=fs/hf, prominence=0.4, width=None, wlen=None, rel_height=0.5, plateau_size=None)\n",
    "peaks_wavelet,_ = find_peaks(np.abs(wavelet_filt), height=0.5, threshold=None, distance=fs/hf, prominence=None, width=None, wlen=None, rel_height=None, plateau_size=None)"
   ]
  },
  {
   "cell_type": "markdown",
   "metadata": {},
   "source": [
    "**Results of peak detection**\n",
    "\n",
    "we now plot the detected peaks (blue dots) against the original signal to visually assess the beat detector performances."
   ]
  },
  {
   "cell_type": "code",
   "execution_count": null,
   "metadata": {},
   "outputs": [],
   "source": [
    "fig = plt.figure(figsize=(20, 5))\n",
    "plt.plot(time, selected, 'b',alpha=0.5, label = \"Signal\")\n",
    "plt.plot(time[peaks_wavelet], selected[peaks_wavelet], 'o', color = 'r', label = \"Peak\")\n",
    "plt.legend(loc=\"upper right\")\n",
    "ax = fig.get_axes()\n",
    "ax[0].set_xlim([35,40]);\n",
    "ax[0].set_xlabel('Time [s]')\n",
    "ax[0].set_ylabel('Amplitude')\n",
    "#plt.savefig(\"Images/SCG/Peak.png\")"
   ]
  },
  {
   "cell_type": "markdown",
   "metadata": {},
   "source": [
    "We can see that every beat is correctly detected even if the exact location of the peak is not always precise"
   ]
  },
  {
   "cell_type": "markdown",
   "metadata": {},
   "source": [
    "**Metrics:**\n",
    "\n",
    "We now extrapolate the average BPM by dividing the number of found peaks by the length of the whole recording period.\n",
    "\n",
    "Then we also calculate the HRV, which is the standard deviation of the inverse of the time differences between peaks.\n",
    "The HRV metric can be useful to assess the quality of the detector since we expect that an idle heathy person would have a regular heartbeat, without any a priori knowledge on the person, an high HRV might also be due to arrhythmias. \n",
    "    "
   ]
  },
  {
   "cell_type": "code",
   "execution_count": null,
   "metadata": {},
   "outputs": [],
   "source": [
    "print(\"mean BPM with FFT filt = \",len(peaks_fft)*60/(len(sig_filt_fft)/fs))\n",
    "print(\"mean BPM with butterworth filt = \",len(peaks_butt)*60/(len(sig_filt_butter)/fs))\n",
    "print(\"mean BPM with wavelet filt = \",len(peaks_wavelet)*60/(len(wavelet_filt)/fs))\n",
    "print(\"HRV with FFT filt = \",np.std(60/(np.diff(peaks_fft)/freq)))\n",
    "print(\"HRV with butterworth filt = \",np.std(60/(np.diff(peaks_butt)/freq)))\n",
    "print(\"HRV with wavelet filt = \",np.std(60/(np.diff(peaks_wavelet)/freq)))"
   ]
  },
  {
   "cell_type": "markdown",
   "metadata": {},
   "source": [
    "In spite of the above considerations on the three filtering methods, the calculated BPM and HRV values are almost identical; \n",
    "\n",
    " "
   ]
  },
  {
   "cell_type": "markdown",
   "metadata": {},
   "source": [
    "**Curve fit**\n",
    "\n",
    "We plot an histogram of the instantaneous BPM, based on the period intercurring between two beats and try to fit it in a gamma distribution."
   ]
  },
  {
   "cell_type": "code",
   "execution_count": null,
   "metadata": {},
   "outputs": [],
   "source": [
    "plt.rcParams['figure.figsize']=(9 ,5)\n",
    "beat_indexes = peaks_wavelet\n",
    "bpms = 60/(np.diff(beat_indexes)/fs)\n",
    "ax = sns.distplot(bpms,kde=False, bins = 10,fit=stats.gamma);\n",
    "ax.set_title('BPM Distribution')\n",
    "ax.set(xlabel='BPM', ylabel='Probability')\n",
    "param = stats.gamma.fit(bpms)\n",
    "mu = stats.gamma.mean(param[0],param[1],param[2])\n",
    "sigma = stats.gamma.std(param[0],param[1],param[2])\n",
    "plt.legend([\"Gamma dist. fit ($\\mu=${0:.2g}, $\\sigma=${1:.2f})\".format(mu, sigma)])\n",
    "print(\"Gamma fitting parameters:\")\n",
    "print(\"Mean BPM = \", mu)\n",
    "print(\"HRV = \",sigma)\n",
    "#plt.savefig(\"Images/SCG/fitting.png\")"
   ]
  },
  {
   "cell_type": "markdown",
   "metadata": {},
   "source": [
    "**Conclusion:**\n",
    "\n",
    "Summarise the obtained results, in particular making a comparison between the two files analysed. Highlight limitation and critical issues encountered during the work, motivating the most relevant contribution given by your solution.\n",
    "\n"
   ]
  },
  {
   "cell_type": "code",
   "execution_count": null,
   "metadata": {},
   "outputs": [],
   "source": []
  }
 ],
 "metadata": {
  "kernelspec": {
   "display_name": "Python 3",
   "language": "python",
   "name": "python3"
  },
  "language_info": {
   "codemirror_mode": {
    "name": "ipython",
    "version": 3
   },
   "file_extension": ".py",
   "mimetype": "text/x-python",
   "name": "python",
   "nbconvert_exporter": "python",
   "pygments_lexer": "ipython3",
   "version": "3.8.2"
  }
 },
 "nbformat": 4,
 "nbformat_minor": 2
}
